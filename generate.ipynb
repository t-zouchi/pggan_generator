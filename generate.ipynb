{
 "cells": [
  {
   "cell_type": "code",
   "execution_count": 1,
   "metadata": {
    "collapsed": true
   },
   "outputs": [],
   "source": [
    "import numpy as np\n",
    "import argparse\n",
    "import os\n",
    "from PIL import Image\n",
    "import chainer\n",
    "from chainer import serializers\n",
    "from chainer import Variable\n",
    "from chainer import cuda\n",
    "import dataset\n",
    "import network\n",
    "import utils"
   ]
  },
  {
   "cell_type": "code",
   "execution_count": 2,
   "metadata": {},
   "outputs": [],
   "source": [
    "depth = 6\n",
    "gen_npz = \"results/gen\" \n",
    "gen = network.Generator(depth)\n",
    "serializers.load_npz(gen_npz, gen)"
   ]
  },
  {
   "cell_type": "code",
   "execution_count": 3,
   "metadata": {
    "collapsed": true
   },
   "outputs": [],
   "source": [
    "z1 = gen.z(1)\n",
    "z2 = gen.z(1)\n",
    "z3 = gen.z(1)\n",
    "z_list = []\n",
    "z_list.append(z1)\n",
    "z_list.append(z2)\n",
    "z_list.append(z3)\n"
   ]
  },
  {
   "cell_type": "code",
   "execution_count": 4,
   "metadata": {
    "collapsed": true
   },
   "outputs": [],
   "source": [
    "num = 10\n",
    "out = '.\\\\img'\n",
    "n = 0\n",
    "images = []\n",
    "\n",
    "for j in range(len(z_list)-1): \n",
    "    for i in range(num):\n",
    "        p = i / (num-1)\n",
    "        z = z_list[j] * (1 - p) + z_list[j+1] * p\n",
    "        \n",
    "        x = gen(z, alpha=1.0)\n",
    "        x = chainer.cuda.to_cpu(x.data)\n",
    "\n",
    "        img = x[0].copy()\n",
    "        filename = os.path.join(out, 'gen_%04d.png'%n)\n",
    "        images.append(img)\n",
    "        utils.save_image(img, filename)\n",
    "        n = n + 1\n"
   ]
  },
  {
   "cell_type": "code",
   "execution_count": 7,
   "metadata": {},
   "outputs": [],
   "source": [
    "utils.save_imges_to_gif(images, '.\\\\img\\imagegif.gif',150)"
   ]
  },
  {
   "cell_type": "code",
   "execution_count": null,
   "metadata": {
    "collapsed": true
   },
   "outputs": [],
   "source": []
  }
 ],
 "metadata": {
  "kernelspec": {
   "display_name": "Python 3",
   "language": "python",
   "name": "python3"
  },
  "language_info": {
   "codemirror_mode": {
    "name": "ipython",
    "version": 3
   },
   "file_extension": ".py",
   "mimetype": "text/x-python",
   "name": "python",
   "nbconvert_exporter": "python",
   "pygments_lexer": "ipython3",
   "version": "3.6.3"
  }
 },
 "nbformat": 4,
 "nbformat_minor": 2
}
